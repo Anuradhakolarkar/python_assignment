{
  "nbformat": 4,
  "nbformat_minor": 0,
  "metadata": {
    "colab": {
      "name": "Amar_panhal_Assignment1-Python.ipynb",
      "provenance": []
    },
    "kernelspec": {
      "name": "python3",
      "display_name": "Python 3"
    },
    "language_info": {
      "name": "python"
    }
  },
  "cells": [
    {
      "cell_type": "code",
      "execution_count": null,
      "metadata": {
        "id": "MgHnfc0vxgCl"
      },
      "outputs": [],
      "source": [
        ""
      ]
    },
    {
      "cell_type": "markdown",
      "source": [
        "Q1.\n",
        "Given a two list. Create a third list by pickling an odd-index element from the first list and even index from the second."
      ],
      "metadata": {
        "id": "zURIC1NOxh7Q"
      }
    },
    {
      "cell_type": "code",
      "source": [
        "listOne = [3, 6, 9, 12, 15, 18, 21]\n",
        "listTwo = [4, 8, 12, 16, 20, 24, 28]\n",
        "odd=[]\n",
        "even=[]\n",
        "listThird=[]\n",
        "for i in range(0,len(listOne)):\n",
        "    if i%2!=0:\n",
        "        odd.append(listOne[i])\n",
        "print(\"odd index list is\", odd)\n",
        "\n",
        "for i in range(0,len(listTwo)):\n",
        "    if i%2==0:\n",
        "        even.append(listTwo[i])\n",
        "print(\"even index list is\",even)\n",
        "\n",
        "listThird.extend(odd)\n",
        "listThird.extend(even)\n",
        "print(\"Final list is\", listThird)\n",
        "    "
      ],
      "metadata": {
        "colab": {
          "base_uri": "https://localhost:8080/"
        },
        "id": "f-zeh0oixm9T",
        "outputId": "0cc2ede4-9a51-4ff6-b2ba-cb8e45c1d9db"
      },
      "execution_count": 1,
      "outputs": [
        {
          "output_type": "stream",
          "name": "stdout",
          "text": [
            "odd index list is [6, 12, 18]\n",
            "even index list is [4, 12, 20, 28]\n",
            "Final list is [6, 12, 18, 4, 12, 20, 28]\n"
          ]
        }
      ]
    },
    {
      "cell_type": "markdown",
      "source": [
        "Q2- Given a number count the total number of digits in a number."
      ],
      "metadata": {
        "id": "QQ70lE23yMxO"
      }
    },
    {
      "cell_type": "code",
      "source": [
        "a=[1,23,344,4695,5,6524,215,7854123,654]\n",
        "t=[]\n",
        "for i in a:\n",
        "    count=0\n",
        "    while i>0:\n",
        "        i=i//10\n",
        "        count+=1\n",
        "    t.append(count)\n",
        "print(t)"
      ],
      "metadata": {
        "colab": {
          "base_uri": "https://localhost:8080/"
        },
        "id": "la0bLZbjyMOl",
        "outputId": "1990d719-d48a-47d5-aa39-7e695b244621"
      },
      "execution_count": 2,
      "outputs": [
        {
          "output_type": "stream",
          "name": "stdout",
          "text": [
            "[1, 2, 3, 4, 1, 4, 3, 7, 3]\n"
          ]
        }
      ]
    },
    {
      "cell_type": "markdown",
      "source": [
        "Q3- Write a python program to print the numbers of a specific list after removing even number from it."
      ],
      "metadata": {
        "id": "BRFnJqEtyaB7"
      }
    },
    {
      "cell_type": "code",
      "source": [
        "a=[]\n",
        "b=[]\n",
        "c=[]\n",
        "while True:\n",
        "    b=input(\"enter a element\")\n",
        "    if b==\"\":\n",
        "        break\n",
        "    a.append(int(b))\n",
        "print(a)\n",
        "\n",
        "for i in a:\n",
        "    if i%2==0:\n",
        "        continue\n",
        "    c.append(i)\n",
        "print(c)"
      ],
      "metadata": {
        "colab": {
          "base_uri": "https://localhost:8080/"
        },
        "id": "bT7z4zi9yXzI",
        "outputId": "cd960ed8-0e73-42b8-bfcf-2144d9fd5f72"
      },
      "execution_count": 3,
      "outputs": [
        {
          "output_type": "stream",
          "name": "stdout",
          "text": [
            "enter a element1\n",
            "enter a element2\n",
            "enter a element3\n",
            "enter a element4\n",
            "enter a element6\n",
            "enter a element6\n",
            "enter a element7\n",
            "enter a element\n",
            "[1, 2, 3, 4, 6, 6, 7]\n",
            "[1, 3, 7]\n"
          ]
        }
      ]
    },
    {
      "cell_type": "markdown",
      "source": [
        "  Q-4.Write a python program to generate and print a list of first and last 5 elements where the value are square of numbers between 1 and 30(both included)."
      ],
      "metadata": {
        "id": "vHzlnw8my03-"
      }
    },
    {
      "cell_type": "code",
      "source": [
        "a=[]\n",
        "c=[]\n",
        "e=[]\n",
        "for i in range(1,31):\n",
        "    a.append(i)\n",
        "print(a)\n",
        "\n",
        "for b in a:\n",
        "    b=b**2\n",
        "    c.append(b)\n",
        "print(c)\n",
        "\n",
        "for d in c:\n",
        "    if d<=30:\n",
        "        e.append(d)\n",
        "print(e)\n",
        "        \n",
        "\n"
      ],
      "metadata": {
        "colab": {
          "base_uri": "https://localhost:8080/"
        },
        "id": "gHdWxXm0ys6F",
        "outputId": "5423faf6-0795-430c-ec86-b6edc2836620"
      },
      "execution_count": 4,
      "outputs": [
        {
          "output_type": "stream",
          "name": "stdout",
          "text": [
            "[1, 2, 3, 4, 5, 6, 7, 8, 9, 10, 11, 12, 13, 14, 15, 16, 17, 18, 19, 20, 21, 22, 23, 24, 25, 26, 27, 28, 29, 30]\n",
            "[1, 4, 9, 16, 25, 36, 49, 64, 81, 100, 121, 144, 169, 196, 225, 256, 289, 324, 361, 400, 441, 484, 529, 576, 625, 676, 729, 784, 841, 900]\n",
            "[1, 4, 9, 16, 25]\n"
          ]
        }
      ]
    },
    {
      "cell_type": "markdown",
      "source": [
        "Q-5.Write a python program tp generate all permutions of a list in python."
      ],
      "metadata": {
        "id": "vgiAVOh-zWAN"
      }
    },
    {
      "cell_type": "code",
      "source": [
        "a=[]\n",
        "d=[]\n",
        "z=[]\n",
        "y=[]\n",
        "final=[]\n",
        "while True:\n",
        "    b=input(\"enter a input\")\n",
        "    if b==\"\":\n",
        "        break\n",
        "    a.append(int(b))\n",
        "print(a)\n",
        "\n",
        "for c in a:\n",
        "    c=c**2\n",
        "    d.append(c)\n",
        "print(d)\n",
        "\n",
        "for e in d[0:5]:\n",
        "    if e<=30:\n",
        "        z.append(e)\n",
        "print(z)\n",
        "        \n",
        "for g in d[: -6:-1]:\n",
        "    if g<=30:\n",
        "        y.append(g)\n",
        "        y.sort()\n",
        "print(y)\n",
        "\n",
        "final.extend(z)\n",
        "final.extend(y)\n",
        "print(final)\n",
        "\n"
      ],
      "metadata": {
        "colab": {
          "base_uri": "https://localhost:8080/"
        },
        "id": "eos7w6r8zPDj",
        "outputId": "f826ff19-5d14-45f5-b7de-a7b3c061f1a5"
      },
      "execution_count": 6,
      "outputs": [
        {
          "output_type": "stream",
          "name": "stdout",
          "text": [
            "enter a input1\n",
            "enter a input2\n",
            "enter a input3\n",
            "enter a input4\n",
            "enter a input5\n",
            "enter a input6\n",
            "enter a input7\n",
            "enter a input8\n",
            "enter a input9\n",
            "enter a input10\n",
            "enter a input11\n",
            "enter a input12\n",
            "enter a input13\n",
            "enter a input14\n",
            "enter a input15\n",
            "enter a input16\n",
            "enter a input17\n",
            "enter a input18\n",
            "enter a input19\n",
            "enter a input20\n",
            "enter a input21\n",
            "enter a input22\n",
            "enter a input22\n",
            "enter a input23\n",
            "enter a input24\n",
            "enter a input25\n",
            "enter a input26\n",
            "enter a input27\n",
            "enter a input28\n",
            "enter a input29\n",
            "enter a input30\n",
            "enter a input\n",
            "[1, 2, 3, 4, 5, 6, 7, 8, 9, 10, 11, 12, 13, 14, 15, 16, 17, 18, 19, 20, 21, 22, 22, 23, 24, 25, 26, 27, 28, 29, 30]\n",
            "[1, 4, 9, 16, 25, 36, 49, 64, 81, 100, 121, 144, 169, 196, 225, 256, 289, 324, 361, 400, 441, 484, 484, 529, 576, 625, 676, 729, 784, 841, 900]\n",
            "[1, 4, 9, 16, 25]\n",
            "[]\n",
            "[1, 4, 9, 16, 25]\n"
          ]
        }
      ]
    },
    {
      "cell_type": "markdown",
      "source": [
        "Q6-Write a python program to check whether two lists are circularly identical."
      ],
      "metadata": {
        "id": "n3VX3YH01cwn"
      }
    },
    {
      "cell_type": "code",
      "source": [
        "a=[1,1,0,0]  \n",
        "b=[0,0,1,1] \n",
        "e=0\n",
        "while True:\n",
        "    c=a[0]\n",
        "    a.pop(0)\n",
        "    a.append(c)\n",
        "    d=len(b)\n",
        "    e+=1\n",
        "    if a==b:\n",
        "        print('two lists are identical')\n",
        "        break\n",
        "    \n",
        "    if e==d:\n",
        "        print('two lists are not identical')\n",
        "        break"
      ],
      "metadata": {
        "colab": {
          "base_uri": "https://localhost:8080/"
        },
        "id": "T78TzGoAzn8J",
        "outputId": "378925e1-ba1b-4f1e-8667-e49db20835fe"
      },
      "execution_count": 7,
      "outputs": [
        {
          "output_type": "stream",
          "name": "stdout",
          "text": [
            "two lists are identical\n"
          ]
        }
      ]
    },
    {
      "cell_type": "markdown",
      "source": [
        "q7-Write a python program to change the position of every n-th value with the (n+1)th in a list."
      ],
      "metadata": {
        "id": "iQNxxXXp1vFy"
      }
    },
    {
      "cell_type": "code",
      "source": [
        "a=[]\n",
        "while True:\n",
        "    e=input(\"Enter data:\")\n",
        "    if e=='':\n",
        "        break\n",
        "    a.append(int(e))\n",
        "print(a)\n",
        "for i in range(0,len(a),2):\n",
        "    a[i],a[i+1]=a[i+1],a[i]\n",
        "print(a)"
      ],
      "metadata": {
        "colab": {
          "base_uri": "https://localhost:8080/"
        },
        "id": "Up_D5qPB1pYf",
        "outputId": "2a0dc600-804c-4ed5-c27e-910af6a43b38"
      },
      "execution_count": 8,
      "outputs": [
        {
          "output_type": "stream",
          "name": "stdout",
          "text": [
            "Enter data:1\n",
            "Enter data:2\n",
            "Enter data:3\n",
            "Enter data:4\n",
            "Enter data:5\n",
            "Enter data:6\n",
            "Enter data:7\n",
            "Enter data:8\n",
            "Enter data:9\n",
            "Enter data:10\n",
            "Enter data:\n",
            "[1, 2, 3, 4, 5, 6, 7, 8, 9, 10]\n",
            "[2, 1, 4, 3, 6, 5, 8, 7, 10, 9]\n"
          ]
        }
      ]
    },
    {
      "cell_type": "markdown",
      "source": [
        "Q-8.\n",
        "Write a python program to iterate over two lists simultaneously.\n"
      ],
      "metadata": {
        "id": "1BdJ4AcM2Nta"
      }
    },
    {
      "cell_type": "code",
      "source": [
        "z=[1,2,3,4,5]\n",
        "y=[\"a\",\"b\",\"c\",\"d\",\"e\"]\n",
        "for i,j in zip(z,y):\n",
        "    print(i,j)"
      ],
      "metadata": {
        "colab": {
          "base_uri": "https://localhost:8080/"
        },
        "id": "WKpfTlGU2BWv",
        "outputId": "92ad5815-0939-4930-9d31-740e613c3354"
      },
      "execution_count": 9,
      "outputs": [
        {
          "output_type": "stream",
          "name": "stdout",
          "text": [
            "1 a\n",
            "2 b\n",
            "3 c\n",
            "4 d\n",
            "5 e\n"
          ]
        }
      ]
    },
    {
      "cell_type": "markdown",
      "source": [
        "Q9.Write a python program to generate the combination of n distinct objects taken from the elements of a given list. "
      ],
      "metadata": {
        "id": "9lok-zvq2cUn"
      }
    },
    {
      "cell_type": "code",
      "source": [
        "a=[1,2,3,4,5,6,7,8,9]\n",
        "ab=[]\n",
        "for i in a:\n",
        "    for j in a:\n",
        "        if i==j:\n",
        "            continue\n",
        "        else:\n",
        "            ab.append([i,j])\n",
        "print(ab)"
      ],
      "metadata": {
        "colab": {
          "base_uri": "https://localhost:8080/"
        },
        "id": "TWnWdJjZ2XaB",
        "outputId": "0683952a-3530-4f9b-a8ae-1239750b2734"
      },
      "execution_count": 10,
      "outputs": [
        {
          "output_type": "stream",
          "name": "stdout",
          "text": [
            "[[1, 2], [1, 3], [1, 4], [1, 5], [1, 6], [1, 7], [1, 8], [1, 9], [2, 1], [2, 3], [2, 4], [2, 5], [2, 6], [2, 7], [2, 8], [2, 9], [3, 1], [3, 2], [3, 4], [3, 5], [3, 6], [3, 7], [3, 8], [3, 9], [4, 1], [4, 2], [4, 3], [4, 5], [4, 6], [4, 7], [4, 8], [4, 9], [5, 1], [5, 2], [5, 3], [5, 4], [5, 6], [5, 7], [5, 8], [5, 9], [6, 1], [6, 2], [6, 3], [6, 4], [6, 5], [6, 7], [6, 8], [6, 9], [7, 1], [7, 2], [7, 3], [7, 4], [7, 5], [7, 6], [7, 8], [7, 9], [8, 1], [8, 2], [8, 3], [8, 4], [8, 5], [8, 6], [8, 7], [8, 9], [9, 1], [9, 2], [9, 3], [9, 4], [9, 5], [9, 6], [9, 7], [9, 8]]\n"
          ]
        }
      ]
    },
    {
      "cell_type": "markdown",
      "source": [
        "Q10- Write a python program to remove duplicates from a list of lists. "
      ],
      "metadata": {
        "id": "6Jgc5zxQ2vc2"
      }
    },
    {
      "cell_type": "code",
      "source": [
        "a=[[10,20],[40],[30,6,25],[10,20],[33],[40],[20,95]]\n",
        "b=[]\n",
        "for i in a:\n",
        "    if i not in b:\n",
        "        b.append(i)\n",
        "print(a)\n",
        "print(sorted(b))"
      ],
      "metadata": {
        "colab": {
          "base_uri": "https://localhost:8080/"
        },
        "id": "gfXXV9Dh2spE",
        "outputId": "a6b891b0-6af1-4fad-cdf0-abd7e93d7a9b"
      },
      "execution_count": 11,
      "outputs": [
        {
          "output_type": "stream",
          "name": "stdout",
          "text": [
            "[[10, 20], [40], [30, 6, 25], [10, 20], [33], [40], [20, 95]]\n",
            "[[10, 20], [20, 95], [30, 6, 25], [33], [40]]\n"
          ]
        }
      ]
    },
    {
      "cell_type": "code",
      "source": [
        ""
      ],
      "metadata": {
        "id": "LSj8Wgy7262m"
      },
      "execution_count": null,
      "outputs": []
    }
  ]
}