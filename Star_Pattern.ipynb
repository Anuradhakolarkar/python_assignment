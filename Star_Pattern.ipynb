{
  "nbformat": 4,
  "nbformat_minor": 0,
  "metadata": {
    "colab": {
      "name": "Star Pattern.ipynb",
      "provenance": []
    },
    "kernelspec": {
      "name": "python3",
      "display_name": "Python 3"
    },
    "language_info": {
      "name": "python"
    }
  },
  "cells": [
    {
      "cell_type": "code",
      "execution_count": 3,
      "metadata": {
        "colab": {
          "base_uri": "https://localhost:8080/"
        },
        "id": "OVLiWt_y9R-t",
        "outputId": "5e8462a4-d994-4b1f-a4a5-e4a8326fcd13"
      },
      "outputs": [
        {
          "output_type": "stream",
          "name": "stdout",
          "text": [
            "Enter a no: 5\n",
            "1  \n",
            "1 2  \n",
            "1 2 3  \n",
            "1 2 3 4  \n",
            "1 2 3 4 5  \n"
          ]
        }
      ],
      "source": [
        "n=int(input(\"Enter a no: \"))\n",
        "for i in range(1,n+1):#\n",
        "    for j in range(1,i+1):\n",
        "        print(j, end=\" \")\n",
        "    print(\" \")"
      ]
    },
    {
      "cell_type": "code",
      "source": [
        "#pattern3\n",
        "n=int(input(\"Enter a no: \"))\n",
        "for i in range(1,n+1):#to print rows\n",
        "    for j in range(1,i+1):#to print coloumns\n",
        "        print(i, end=\" \")\n",
        "    print(\" \")"
      ],
      "metadata": {
        "colab": {
          "base_uri": "https://localhost:8080/"
        },
        "id": "ArBoPIb49kOy",
        "outputId": "6f4454f4-ae9a-4d28-c2c6-9ae8f50f7495"
      },
      "execution_count": 2,
      "outputs": [
        {
          "output_type": "stream",
          "name": "stdout",
          "text": [
            "Enter a no: 5\n",
            "1  \n",
            "2 2  \n",
            "3 3 3  \n",
            "4 4 4 4  \n",
            "5 5 5 5 5  \n"
          ]
        }
      ]
    },
    {
      "cell_type": "code",
      "source": [
        "#pattern4\n",
        "n=int(input(\"Enter a no: \"))\n",
        "for i in range(1,n+1):#to print rows\n",
        "    for j in range(1,i+1):#to print coloumns\n",
        "        print(j, end=\" \")\n",
        "    print(\" \")\n",
        "for a in range(1,n):#to print rows\n",
        "    for b in range(1,n-a+1):#to print coloumns\n",
        "        print(b, end=\" \")\n",
        "    print(\" \")"
      ],
      "metadata": {
        "colab": {
          "base_uri": "https://localhost:8080/"
        },
        "id": "YBLpXfte9mTC",
        "outputId": "982fc7eb-9fc1-4b4d-ff7e-380583a4501a"
      },
      "execution_count": 4,
      "outputs": [
        {
          "output_type": "stream",
          "name": "stdout",
          "text": [
            "Enter a no: 5\n",
            "1  \n",
            "1 2  \n",
            "1 2 3  \n",
            "1 2 3 4  \n",
            "1 2 3 4 5  \n",
            "1 2 3 4  \n",
            "1 2 3  \n",
            "1 2  \n",
            "1  \n"
          ]
        }
      ]
    },
    {
      "cell_type": "code",
      "source": [
        "#pattern5.1\n",
        "n=int(input(\"Enter a no: \"))\n",
        "for a in range(1,n+1):\n",
        "    for b in range(1,n-a+2):\n",
        "        print(b, end=\" \")\n",
        "    print(\" \")\n",
        "for i in range(1,n+1):#to print rows\n",
        "    for j in range(1,i+1):#to print coloumns\n",
        "        print(j, end=\" \")\n",
        "    print(\" \")"
      ],
      "metadata": {
        "colab": {
          "base_uri": "https://localhost:8080/"
        },
        "id": "0aNLuZVD9z0j",
        "outputId": "845efc1b-dfac-403d-8ab0-5be0cac49f8d"
      },
      "execution_count": 5,
      "outputs": [
        {
          "output_type": "stream",
          "name": "stdout",
          "text": [
            "Enter a no: 5\n",
            "1 2 3 4 5  \n",
            "1 2 3 4  \n",
            "1 2 3  \n",
            "1 2  \n",
            "1  \n",
            "1  \n",
            "1 2  \n",
            "1 2 3  \n",
            "1 2 3 4  \n",
            "1 2 3 4 5  \n"
          ]
        }
      ]
    },
    {
      "cell_type": "code",
      "source": [
        "n=int(input(\"Enter a no: \"))\n",
        "for i in range(1,n+1):#to print rows\n",
        "    for j in range(1,n-i+2):#to print coloumns\n",
        "        print(n-j+1, end=\" \")\n",
        "    print(\" \")"
      ],
      "metadata": {
        "colab": {
          "base_uri": "https://localhost:8080/"
        },
        "id": "tKTvKQur944B",
        "outputId": "f78ed4ab-fabc-4b37-f574-9bd1e06a2fc9"
      },
      "execution_count": 6,
      "outputs": [
        {
          "output_type": "stream",
          "name": "stdout",
          "text": [
            "Enter a no: 5\n",
            "5 4 3 2 1  \n",
            "5 4 3 2  \n",
            "5 4 3  \n",
            "5 4  \n",
            "5  \n"
          ]
        }
      ]
    },
    {
      "cell_type": "code",
      "source": [
        "s=input(\"Enter a no: \")\n",
        "\n",
        "for i in range(1,n+1):#to print rows\n",
        "    for j in range(1,n-i+2):#to print coloumns\n",
        "        print(n-j+1, end=\" \")\n",
        "    print(\" \")"
      ],
      "metadata": {
        "colab": {
          "base_uri": "https://localhost:8080/"
        },
        "id": "Oax6F7pS-B8s",
        "outputId": "9044e0ef-f5a8-4082-9c36-4ef095f51ae7"
      },
      "execution_count": 7,
      "outputs": [
        {
          "output_type": "stream",
          "name": "stdout",
          "text": [
            "Enter a no: 5\n",
            "5 4 3 2 1  \n",
            "5 4 3 2  \n",
            "5 4 3  \n",
            "5 4  \n",
            "5  \n"
          ]
        }
      ]
    },
    {
      "cell_type": "code",
      "source": [
        "#pattern 6\n",
        "n=int(input(\"Enter a no: \"))\n",
        "for i in range(1,n+1):#to print rows\n",
        "    for a in range(1,n-i+1):\n",
        "        print(\" \",end=\"\")\n",
        "    for j in range(1,i+1):#to print coloumns\n",
        "        print(j, end=\" \")\n",
        "    print(\" \")"
      ],
      "metadata": {
        "colab": {
          "base_uri": "https://localhost:8080/"
        },
        "id": "e5FERPXj-Gki",
        "outputId": "824ed761-56ba-4d33-f409-0aa33b5c16ca"
      },
      "execution_count": 8,
      "outputs": [
        {
          "output_type": "stream",
          "name": "stdout",
          "text": [
            "Enter a no: 5\n",
            "    1  \n",
            "   1 2  \n",
            "  1 2 3  \n",
            " 1 2 3 4  \n",
            "1 2 3 4 5  \n"
          ]
        }
      ]
    },
    {
      "cell_type": "code",
      "source": [
        "#pattern7\n",
        "n=int(input(\"Enter a no: \"))\n",
        "for i in range(n,0,-1):#to print rows\n",
        "    for j in range(1,i+1):#to print coloumns\n",
        "        print(n-j+1, end=\" \")\n",
        "    print(\" \")"
      ],
      "metadata": {
        "colab": {
          "base_uri": "https://localhost:8080/"
        },
        "id": "RJ8popU3-MRm",
        "outputId": "fa11e63b-f616-46a7-c59c-90fcc2b14939"
      },
      "execution_count": 9,
      "outputs": [
        {
          "output_type": "stream",
          "name": "stdout",
          "text": [
            "Enter a no: 5\n",
            "5 4 3 2 1  \n",
            "5 4 3 2  \n",
            "5 4 3  \n",
            "5 4  \n",
            "5  \n"
          ]
        }
      ]
    },
    {
      "cell_type": "code",
      "source": [
        "#pattern8\n",
        "n=int(input(\"Enter a no: \"))\n",
        "for i in range(1,n+1):#to print rows\n",
        "    for j in range(1,i+1):#to print coloumns\n",
        "        print(n-j+1, end=\" \")\n",
        "    print(\" \")"
      ],
      "metadata": {
        "colab": {
          "base_uri": "https://localhost:8080/"
        },
        "id": "sxXyUVVJ-XF1",
        "outputId": "76cb3700-723c-4f01-ee82-a15e229bfc3f"
      },
      "execution_count": 10,
      "outputs": [
        {
          "output_type": "stream",
          "name": "stdout",
          "text": [
            "Enter a no: 5\n",
            "5  \n",
            "5 4  \n",
            "5 4 3  \n",
            "5 4 3 2  \n",
            "5 4 3 2 1  \n"
          ]
        }
      ]
    },
    {
      "cell_type": "code",
      "source": [
        "#pattern9\n",
        "n=int(input(\"Enter a no: \"))\n",
        "for i in range(1,n+1):#to print rows\n",
        "    for j in range(1,n-i+2):#to print coloumns\n",
        "        print(j, end=\" \")\n",
        "    print(\" \")"
      ],
      "metadata": {
        "colab": {
          "base_uri": "https://localhost:8080/"
        },
        "id": "iBZOl45F-cj0",
        "outputId": "d2f70ff9-ddcc-460d-8a7e-582476fc272f"
      },
      "execution_count": 11,
      "outputs": [
        {
          "output_type": "stream",
          "name": "stdout",
          "text": [
            "Enter a no: 5\n",
            "1 2 3 4 5  \n",
            "1 2 3 4  \n",
            "1 2 3  \n",
            "1 2  \n",
            "1  \n"
          ]
        }
      ]
    },
    {
      "cell_type": "code",
      "source": [
        "#pattern10 floyd's triangle\n",
        "n=int(input(\"Enter a no: \"))\n",
        "k=1\n",
        "for i in range(1,n+1):#to print rows\n",
        "    for j in range(1,i+1):#to print coloumns\n",
        "        print(k, end=\" \")\n",
        "        k+=1\n",
        "    print(\" \")"
      ],
      "metadata": {
        "colab": {
          "base_uri": "https://localhost:8080/"
        },
        "id": "rxJzStAB-hEx",
        "outputId": "b0813448-e19b-48e9-ff86-855267bfc981"
      },
      "execution_count": 12,
      "outputs": [
        {
          "output_type": "stream",
          "name": "stdout",
          "text": [
            "Enter a no: 5\n",
            "1  \n",
            "2 3  \n",
            "4 5 6  \n",
            "7 8 9 10  \n",
            "11 12 13 14 15  \n"
          ]
        }
      ]
    },
    {
      "cell_type": "code",
      "source": [
        "#pattern11\n",
        "n=int(input(\"Enter a no: \"))\n",
        "for i in range(1,n+1):#to print rows\n",
        "    for j in range(1,i+1):#to print coloumns\n",
        "        print(i-j+1, end=\" \")\n",
        "    print(\" \")"
      ],
      "metadata": {
        "colab": {
          "base_uri": "https://localhost:8080/"
        },
        "id": "TdBjnwZr-lea",
        "outputId": "b4aa6374-99a1-4011-c742-0ae2a6bc11bf"
      },
      "execution_count": 13,
      "outputs": [
        {
          "output_type": "stream",
          "name": "stdout",
          "text": [
            "Enter a no: 5\n",
            "1  \n",
            "2 1  \n",
            "3 2 1  \n",
            "4 3 2 1  \n",
            "5 4 3 2 1  \n"
          ]
        }
      ]
    },
    {
      "cell_type": "code",
      "source": [
        "#pattern12\n",
        "n=int(input(\"Enter a no: \"))\n",
        "for i in range(1,n+1):#to print rows\n",
        "    for j in range(1,i+1):#to print coloumns\n",
        "        print(i, end=\" \")\n",
        "        i+=5\n",
        "    print(\" \")"
      ],
      "metadata": {
        "colab": {
          "base_uri": "https://localhost:8080/"
        },
        "id": "szjsSqnx-rUp",
        "outputId": "df0720ab-39d5-4ac9-ada8-5508f919c175"
      },
      "execution_count": 14,
      "outputs": [
        {
          "output_type": "stream",
          "name": "stdout",
          "text": [
            "Enter a no: 5\n",
            "1  \n",
            "2 7  \n",
            "3 8 13  \n",
            "4 9 14 19  \n",
            "5 10 15 20 25  \n"
          ]
        }
      ]
    },
    {
      "cell_type": "code",
      "source": [
        "#pattern13 pascles\n",
        "n=int(input(\"Enter a no: \"))\n",
        "for i in range(0,n):#to print rows\n",
        "    for a in range(1,n-i+1):\n",
        "        print(\" \",end=\"\")\n",
        "    #for j in range(1,i+1):#to print coloumns\n",
        "    print(11**i, end=\" \")\n",
        "    print(\" \")"
      ],
      "metadata": {
        "colab": {
          "base_uri": "https://localhost:8080/"
        },
        "id": "a6FQiqYS-wwY",
        "outputId": "4dcf7054-ac34-4051-f802-860dfa3fc7c8"
      },
      "execution_count": 15,
      "outputs": [
        {
          "output_type": "stream",
          "name": "stdout",
          "text": [
            "Enter a no: 5\n",
            "     1  \n",
            "    11  \n",
            "   121  \n",
            "  1331  \n",
            " 14641  \n"
          ]
        }
      ]
    },
    {
      "cell_type": "code",
      "source": [
        "#pattern14\n",
        "n=int(input(\"Enter a no: \"))   \n",
        "for i in range(1, n+1,):\n",
        "    print(\" \")\n",
        "    for a in range(1,i+1):\n",
        "        print(a,end=\" \")\n",
        "    for j in range(1,i):#to print coloumns\n",
        "        print(i-j, end=\" \")\n",
        "    print(\" \")\n",
        "    \n",
        "    "
      ],
      "metadata": {
        "colab": {
          "base_uri": "https://localhost:8080/"
        },
        "id": "aX7T5rwN-2Yb",
        "outputId": "3b2c25ca-8156-4590-87f9-881899103bae"
      },
      "execution_count": 16,
      "outputs": [
        {
          "output_type": "stream",
          "name": "stdout",
          "text": [
            "Enter a no: 5\n",
            " \n",
            "1  \n",
            " \n",
            "1 2 1  \n",
            " \n",
            "1 2 3 2 1  \n",
            " \n",
            "1 2 3 4 3 2 1  \n",
            " \n",
            "1 2 3 4 5 4 3 2 1  \n"
          ]
        }
      ]
    },
    {
      "cell_type": "code",
      "source": [
        "#pattern15\n",
        "n=int(input(\"Enter a no: \"))\n",
        "for i in range(1,n+1):#to print rows\n",
        "    for a in range(1,i+1):\n",
        "        print(\" \",end=\"\")\n",
        "    for j in range(1,n+2-i):#to print coloumns\n",
        "        print(j, end=\" \")\n",
        "    print(\" \")"
      ],
      "metadata": {
        "colab": {
          "base_uri": "https://localhost:8080/"
        },
        "id": "BflxuDF5-8v3",
        "outputId": "3618abee-280e-4e90-eb03-f0d357295b44"
      },
      "execution_count": 17,
      "outputs": [
        {
          "output_type": "stream",
          "name": "stdout",
          "text": [
            "Enter a no: 5\n",
            " 1 2 3 4 5  \n",
            "  1 2 3 4  \n",
            "   1 2 3  \n",
            "    1 2  \n",
            "     1  \n"
          ]
        }
      ]
    },
    {
      "cell_type": "code",
      "source": [
        "#pattern16\n",
        "n=int(input(\"Enter a no: \"))\n",
        "for i in range(1,n+1):#to print rows\n",
        "    for a in range(1,n-i+1):\n",
        "        print(\" \",end=\"\")\n",
        "    for j in range(1,i+1):#to print coloumns\n",
        "        print(j, end=\" \")\n",
        "    print(\" \")\n",
        "for i in range(1,n+1):#to print rows\n",
        "    for a in range(1,i+1):\n",
        "        print(\" \",end=\"\")\n",
        "    for j in range(1,n+1-i):#to print coloumns\n",
        "        print(j, end=\" \")\n",
        "    print(\" \")"
      ],
      "metadata": {
        "colab": {
          "base_uri": "https://localhost:8080/"
        },
        "id": "B1aft_rZ_CH9",
        "outputId": "c73f7317-706d-43db-c395-c32dc75c0314"
      },
      "execution_count": 18,
      "outputs": [
        {
          "output_type": "stream",
          "name": "stdout",
          "text": [
            "Enter a no: 5\n",
            "    1  \n",
            "   1 2  \n",
            "  1 2 3  \n",
            " 1 2 3 4  \n",
            "1 2 3 4 5  \n",
            " 1 2 3 4  \n",
            "  1 2 3  \n",
            "   1 2  \n",
            "    1  \n",
            "      \n"
          ]
        }
      ]
    },
    {
      "cell_type": "code",
      "source": [
        "#pattern17\n",
        "n=int(input(\"Enter a no: \"))\n",
        "for i in range(1,n+1):#to print rows\n",
        "    for a in range(1,i):\n",
        "        print(\" \",end=\"\")\n",
        "    for j in range(1,n+2-i):#to print coloumns\n",
        "        print(n-j+1, end=\"\")\n",
        "    print(\" \")\n",
        "for b in range(1, n+1):#to print rows\n",
        "    for d in range(n,b,-1):\n",
        "        print(\" \",end=\"\")\n",
        "    for c in range(1,b+1):#to print coloumns\n",
        "        print(n-b+c, end=\"\")\n",
        "    print(\" \")"
      ],
      "metadata": {
        "colab": {
          "base_uri": "https://localhost:8080/"
        },
        "id": "bbgXkQpP_Ith",
        "outputId": "231484b4-8da0-4be6-cecf-8e043498400d"
      },
      "execution_count": 19,
      "outputs": [
        {
          "output_type": "stream",
          "name": "stdout",
          "text": [
            "Enter a no: 5\n",
            "54321 \n",
            " 5432 \n",
            "  543 \n",
            "   54 \n",
            "    5 \n",
            "    5 \n",
            "   45 \n",
            "  345 \n",
            " 2345 \n",
            "12345 \n"
          ]
        }
      ]
    },
    {
      "cell_type": "code",
      "source": [
        "#pattern18\n",
        "n=int(input(\"Enter a no: \"))\n",
        "for i in range(1,n+1):\n",
        "    for a in range(1,i):\n",
        "        print(\" \",end=\"\")\n",
        "    for j in range(1,n+2-i):#to print coloumns\n",
        "        print(j+i-1, end=\" \")\n",
        "    print(\" \")\n",
        "for b in range(1, n+1):#to print rows\n",
        "    for d in range(n,b,-1):\n",
        "        print(\" \",end=\"\")\n",
        "    for c in range(1,b+1):#to print coloumns\n",
        "        print(n-b+c, end=\" \")\n",
        "    print(\" \")"
      ],
      "metadata": {
        "colab": {
          "base_uri": "https://localhost:8080/"
        },
        "id": "jJCQBVZ7_OdG",
        "outputId": "5dd9bfd5-53e2-4b81-9fd6-96fbce5bf7d1"
      },
      "execution_count": 20,
      "outputs": [
        {
          "output_type": "stream",
          "name": "stdout",
          "text": [
            "Enter a no: 5\n",
            "1 2 3 4 5  \n",
            " 2 3 4 5  \n",
            "  3 4 5  \n",
            "   4 5  \n",
            "    5  \n",
            "    5  \n",
            "   4 5  \n",
            "  3 4 5  \n",
            " 2 3 4 5  \n",
            "1 2 3 4 5  \n"
          ]
        }
      ]
    },
    {
      "cell_type": "code",
      "source": [
        "#pattern19\n",
        "n=int(input(\"Enter a no: \"))\n",
        "for b in range(1, n+1):#to print rows\n",
        "    for d in range(n,b,-1):\n",
        "        print(\" \",end=\"\")\n",
        "    for c in range(1,b+1):#to print coloumns\n",
        "        print(n-b+c, end=\" \")\n",
        "    print(\" \")"
      ],
      "metadata": {
        "colab": {
          "base_uri": "https://localhost:8080/"
        },
        "id": "XVeNgWb7_VWp",
        "outputId": "0b7f3f26-7960-463a-8f78-d452c701d08a"
      },
      "execution_count": 21,
      "outputs": [
        {
          "output_type": "stream",
          "name": "stdout",
          "text": [
            "Enter a no: 5\n",
            "    5  \n",
            "   4 5  \n",
            "  3 4 5  \n",
            " 2 3 4 5  \n",
            "1 2 3 4 5  \n"
          ]
        }
      ]
    },
    {
      "cell_type": "code",
      "source": [
        "#pattern20\n",
        "n=int(input(\"Enter a no: \"))   \n",
        "for i in range(1, n+1,):\n",
        "    print(\" \")\n",
        "    for b in range(n,i,-1):\n",
        "        print(\" \",end=\" \")\n",
        "    for a in range(1,i+1):\n",
        "        print(a,end=\" \")\n",
        "    for j in range(1,i):#to print coloumns\n",
        "        print(i-j, end=\" \")\n",
        "    print(\" \")"
      ],
      "metadata": {
        "colab": {
          "base_uri": "https://localhost:8080/"
        },
        "id": "jnmIKRYV_aFi",
        "outputId": "b9ac5d1d-e706-4050-da13-512a7a3de663"
      },
      "execution_count": 22,
      "outputs": [
        {
          "output_type": "stream",
          "name": "stdout",
          "text": [
            "Enter a no: 5\n",
            " \n",
            "        1  \n",
            " \n",
            "      1 2 1  \n",
            " \n",
            "    1 2 3 2 1  \n",
            " \n",
            "  1 2 3 4 3 2 1  \n",
            " \n",
            "1 2 3 4 5 4 3 2 1  \n"
          ]
        }
      ]
    },
    {
      "cell_type": "code",
      "source": [
        "#pattern21\n",
        "n=int(input(\"Enter a no: \"))\n",
        "for i in range(1,n+1):#\n",
        "    for j in range(1,i+1):\n",
        "        print(j%2, end=\" \")\n",
        "    print(\" \")\n",
        "    "
      ],
      "metadata": {
        "colab": {
          "base_uri": "https://localhost:8080/"
        },
        "id": "b0lewCdc_fxY",
        "outputId": "01e48500-1c65-4c74-b78a-fe9d806e3011"
      },
      "execution_count": 23,
      "outputs": [
        {
          "output_type": "stream",
          "name": "stdout",
          "text": [
            "Enter a no: 5\n",
            "1  \n",
            "1 0  \n",
            "1 0 1  \n",
            "1 0 1 0  \n",
            "1 0 1 0 1  \n"
          ]
        }
      ]
    },
    {
      "cell_type": "code",
      "source": [
        "#pattern23\n",
        "n=int(input(\"Enter a no: \"))\n",
        "for i in range(1,n+1):#to print rows\n",
        "    for j in range(1,n-i+1):#to print coloumns\n",
        "        print(1, end=\" \")\n",
        "    for j in range(1,i+1):#to print coloumns\n",
        "        print(i, end=\" \")\n",
        "    print(\" \")"
      ],
      "metadata": {
        "colab": {
          "base_uri": "https://localhost:8080/"
        },
        "id": "PTCP5iY2_q_-",
        "outputId": "ab5a08ce-e685-43de-dce6-de208ef624e5"
      },
      "execution_count": 24,
      "outputs": [
        {
          "output_type": "stream",
          "name": "stdout",
          "text": [
            "Enter a no: 5\n",
            "1 1 1 1 1  \n",
            "1 1 1 2 2  \n",
            "1 1 3 3 3  \n",
            "1 4 4 4 4  \n",
            "5 5 5 5 5  \n"
          ]
        }
      ]
    },
    {
      "cell_type": "code",
      "source": [
        ""
      ],
      "metadata": {
        "id": "YYy8P1QF_rcJ"
      },
      "execution_count": null,
      "outputs": []
    }
  ]
}