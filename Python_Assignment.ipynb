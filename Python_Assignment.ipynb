{
  "nbformat": 4,
  "nbformat_minor": 0,
  "metadata": {
    "colab": {
      "name": "Python_Assignment.ipynb",
      "provenance": []
    },
    "kernelspec": {
      "name": "python3",
      "display_name": "Python 3"
    },
    "language_info": {
      "name": "python"
    }
  },
  "cells": [
    {
      "cell_type": "markdown",
      "source": [
        "  Q1.Write a program to display whether the input is a digit or a letter of the alphabet"
      ],
      "metadata": {
        "id": "IIACOqNO4CYD"
      }
    },
    {
      "cell_type": "code",
      "execution_count": 1,
      "metadata": {
        "colab": {
          "base_uri": "https://localhost:8080/"
        },
        "id": "wj8DSvPE3lZa",
        "outputId": "06bce1ff-7d58-4ea3-e6f7-ef4f84bd46d5"
      },
      "outputs": [
        {
          "output_type": "stream",
          "name": "stdout",
          "text": [
            "b\n",
            "its Aplhabet\n"
          ]
        }
      ],
      "source": [
        "a=input()\n",
        "if (a>='a' and a<='z') or (a>='A' and a<='Z'):\n",
        "    print('its Aplhabet')\n",
        "elif(a>='0' and a<='9'):\n",
        "    print('Its digit')\n"
      ]
    },
    {
      "cell_type": "code",
      "source": [
        "a=input()\n",
        "if (a>='a' and a<='z') or (a>='A' and a<='B'):\n",
        "    print('Alpha',a)\n",
        "elif(int(a) in range(1,10)):\n",
        "    print('digit',a)\n"
      ],
      "metadata": {
        "colab": {
          "base_uri": "https://localhost:8080/"
        },
        "id": "_RXhQb9f4PdJ",
        "outputId": "ab259960-ac7d-49f3-a7ed-0ac8a12d37d1"
      },
      "execution_count": 3,
      "outputs": [
        {
          "name": "stdout",
          "output_type": "stream",
          "text": [
            "10\n"
          ]
        }
      ]
    },
    {
      "cell_type": "markdown",
      "source": [
        "Q2-Write a program to accept a character and display its next and previous character."
      ],
      "metadata": {
        "id": "nghDsLLF4tEK"
      }
    },
    {
      "cell_type": "code",
      "source": [
        "c = input()\n",
        "print(\"ASCII VALUE IS \", ord(c))\n",
        "x = chr(ord(c)-1)\n",
        "print(\"previous character is\", x)\n",
        "y = chr(ord(c)+1)\n",
        "print(\"next character is\",y)"
      ],
      "metadata": {
        "colab": {
          "base_uri": "https://localhost:8080/"
        },
        "id": "Oj2EXwNJ4SMg",
        "outputId": "fd2c76fe-5b82-4d40-e080-9d22fb7b5c52"
      },
      "execution_count": 4,
      "outputs": [
        {
          "output_type": "stream",
          "name": "stdout",
          "text": [
            "a\n",
            "ASCII VALUE IS  97\n",
            "previous character is `\n",
            "next character is b\n"
          ]
        }
      ]
    },
    {
      "cell_type": "markdown",
      "source": [
        "Q3.Write a program to accept a string from the user , delete all vowels from the string and display the result."
      ],
      "metadata": {
        "id": "YYj8e9oA5FMf"
      }
    },
    {
      "cell_type": "code",
      "source": [
        "i=0\n",
        "a = input(\"give a string\")\n",
        "if a == \"a\" or a == \"e\" a == \"i\" a == \"o\" a == \"u\":\n",
        "    del(i)\n",
        "    print(a)"
      ],
      "metadata": {
        "colab": {
          "base_uri": "https://localhost:8080/",
          "height": 130
        },
        "id": "xeOL9qv75ALi",
        "outputId": "c445964b-7fcc-41e6-a080-c6569cda9584"
      },
      "execution_count": 5,
      "outputs": [
        {
          "output_type": "error",
          "ename": "SyntaxError",
          "evalue": "ignored",
          "traceback": [
            "\u001b[0;36m  File \u001b[0;32m\"<ipython-input-5-7a850ed97a70>\"\u001b[0;36m, line \u001b[0;32m3\u001b[0m\n\u001b[0;31m    if a == \"a\" or a == \"e\" a == \"i\" a == \"o\" a == \"u\":\u001b[0m\n\u001b[0m                            ^\u001b[0m\n\u001b[0;31mSyntaxError\u001b[0m\u001b[0;31m:\u001b[0m invalid syntax\n"
          ]
        }
      ]
    },
    {
      "cell_type": "code",
      "source": [
        "a= input(\"Enter a word\")\n",
        "v=('a','i','o','e','u')\n",
        "s=''\n",
        "for i in a:\n",
        "    if i.lower() not in v:\n",
        "        s=s+i\n",
        "print(s)\n"
      ],
      "metadata": {
        "colab": {
          "base_uri": "https://localhost:8080/"
        },
        "id": "EvoTlWNz5aHR",
        "outputId": "9090a363-bcc3-47c3-9ec6-ff8eca2a99a5"
      },
      "execution_count": 6,
      "outputs": [
        {
          "output_type": "stream",
          "name": "stdout",
          "text": [
            "Enter a wordHello\n",
            "Hll\n"
          ]
        }
      ]
    },
    {
      "cell_type": "markdown",
      "source": [
        "Q4.\n",
        "Write a program to accept three sides of a triangle as the input and print whether the triangle is valid or not."
      ],
      "metadata": {
        "id": "XH7-A9UP5ivW"
      }
    },
    {
      "cell_type": "code",
      "source": [
        "a=int(input(\"Enter a first side: \"))\n",
        "b=int(input(\"Enter a second side: \"))\n",
        "c=int(input(\"Enter a third side: \"))\n",
        "if a==0 or b==0 or c==0:\n",
        "    print(\"Triangle will not form\")\n",
        "elif a+b > c or a+c > b or b+c > a:\n",
        "    print(\"tringle will form\")\n",
        "else:\n",
        "    print(\"invalid input\")"
      ],
      "metadata": {
        "colab": {
          "base_uri": "https://localhost:8080/"
        },
        "id": "1r3dphdc5Vo8",
        "outputId": "0b61c9e4-e4c5-4c99-e062-6288924d6b3a"
      },
      "execution_count": 7,
      "outputs": [
        {
          "output_type": "stream",
          "name": "stdout",
          "text": [
            "Enter a first side: 5\n",
            "Enter a second side: 10\n",
            "Enter a third side: 15\n",
            "tringle will form\n"
          ]
        }
      ]
    },
    {
      "cell_type": "markdown",
      "source": [
        "Q5.Write a program to display the multiplication table of a given number."
      ],
      "metadata": {
        "id": "OaBjogbg5983"
      }
    },
    {
      "cell_type": "code",
      "source": [
        "a = int(input(\"Enter a number: \"))\n",
        "i=1\n",
        "while i <= 10:\n",
        "    b = a * i\n",
        "    print(a, \"X\", i, \"=\", b)\n",
        "    i += 1"
      ],
      "metadata": {
        "colab": {
          "base_uri": "https://localhost:8080/"
        },
        "id": "EKfG6_5v59jZ",
        "outputId": "6ef2cc44-62f4-4de8-ebe4-f80f97e29ea5"
      },
      "execution_count": 8,
      "outputs": [
        {
          "output_type": "stream",
          "name": "stdout",
          "text": [
            "Enter a number: 10\n",
            "10 X 1 = 10\n",
            "10 X 2 = 20\n",
            "10 X 3 = 30\n",
            "10 X 4 = 40\n",
            "10 X 5 = 50\n",
            "10 X 6 = 60\n",
            "10 X 7 = 70\n",
            "10 X 8 = 80\n",
            "10 X 9 = 90\n",
            "10 X 10 = 100\n"
          ]
        }
      ]
    },
    {
      "cell_type": "markdown",
      "source": [
        "Q6-Write a program to accept a string value from the user and accept a char value from the user and find out the total occurrence of the char value in the string value. "
      ],
      "metadata": {
        "id": "FQeeLeuP6MET"
      }
    },
    {
      "cell_type": "code",
      "source": [
        "a = input(\"Enter string:\")\n",
        "a = a.split(\",\")\n",
        "c = input(\"Enter a character\")\n",
        "count = 0\n",
        "for c in a:\n",
        "    if c==a:\n",
        "        count = count+1\n",
        "        print(count)\n",
        "    else:\n",
        "        print(\"No match found\")\n",
        "        "
      ],
      "metadata": {
        "colab": {
          "base_uri": "https://localhost:8080/"
        },
        "id": "Zoi8Tb3d54My",
        "outputId": "2f487117-1277-4d08-ab99-22e452cbb983"
      },
      "execution_count": 9,
      "outputs": [
        {
          "output_type": "stream",
          "name": "stdout",
          "text": [
            "Enter string:anuradha\n",
            "Enter a characterdevyani\n",
            "No match found\n"
          ]
        }
      ]
    },
    {
      "cell_type": "code",
      "source": [
        "l=[]\n",
        "for n in (l):\n",
        "    b=input(\"Enter the value\")\n",
        "    list.append(b)\n"
      ],
      "metadata": {
        "id": "BeObolg06kd5"
      },
      "execution_count": 10,
      "outputs": []
    },
    {
      "cell_type": "code",
      "source": [
        "a = input(\"Enter string:\")\n",
        "a = a.split(\",\")\n",
        "print(a)"
      ],
      "metadata": {
        "colab": {
          "base_uri": "https://localhost:8080/"
        },
        "id": "1JSazDtR6yFC",
        "outputId": "8fec9a99-bbc6-47ac-a31a-8bd9856bb3cf"
      },
      "execution_count": 11,
      "outputs": [
        {
          "output_type": "stream",
          "name": "stdout",
          "text": [
            "Enter string:anuradha\n",
            "['anuradha']\n"
          ]
        }
      ]
    },
    {
      "cell_type": "code",
      "source": [
        "# creating an empty list\n",
        "lst = []\n",
        "\n",
        "# number of elements as input\n",
        "n = input(\"Enter number of elements : \")\n",
        "\n",
        "# iterating till the range\n",
        "for i in range(0, len(lst)):\n",
        "\tele = input()\n",
        "\n",
        "\tlst.append(ele) # adding the element\n",
        "\t\n",
        "print(lst)\n"
      ],
      "metadata": {
        "colab": {
          "base_uri": "https://localhost:8080/"
        },
        "id": "I-Ds3cXT61SK",
        "outputId": "dfee9fdd-6bf0-42f0-c159-d49fedb8f28c"
      },
      "execution_count": 12,
      "outputs": [
        {
          "output_type": "stream",
          "name": "stdout",
          "text": [
            "Enter number of elements : anuradha kolarkar\n",
            "[]\n"
          ]
        }
      ]
    },
    {
      "cell_type": "markdown",
      "source": [
        "Q7.Description Write a program to calulate the sum of the digits of a given given number."
      ],
      "metadata": {
        "id": "1jfBH-O67hl8"
      }
    },
    {
      "cell_type": "code",
      "source": [
        "a=int(input(\"Enter a no: \"))\n",
        "for i in a(len):\n",
        "    b= a%10\n",
        "    print(b)\n",
        "c= a//10\n",
        "print(c)"
      ],
      "metadata": {
        "colab": {
          "base_uri": "https://localhost:8080/",
          "height": 252
        },
        "id": "c32KWNci7XFd",
        "outputId": "51e0150d-187a-4949-cb84-a07fcf99170b"
      },
      "execution_count": 14,
      "outputs": [
        {
          "name": "stdout",
          "output_type": "stream",
          "text": [
            "Enter a no: 123\n"
          ]
        },
        {
          "output_type": "error",
          "ename": "TypeError",
          "evalue": "ignored",
          "traceback": [
            "\u001b[0;31m---------------------------------------------------------------------------\u001b[0m",
            "\u001b[0;31mTypeError\u001b[0m                                 Traceback (most recent call last)",
            "\u001b[0;32m<ipython-input-14-f10f54c418b4>\u001b[0m in \u001b[0;36m<module>\u001b[0;34m()\u001b[0m\n\u001b[1;32m      1\u001b[0m \u001b[0ma\u001b[0m\u001b[0;34m=\u001b[0m\u001b[0mint\u001b[0m\u001b[0;34m(\u001b[0m\u001b[0minput\u001b[0m\u001b[0;34m(\u001b[0m\u001b[0;34m\"Enter a no: \"\u001b[0m\u001b[0;34m)\u001b[0m\u001b[0;34m)\u001b[0m\u001b[0;34m\u001b[0m\u001b[0;34m\u001b[0m\u001b[0m\n\u001b[0;32m----> 2\u001b[0;31m \u001b[0;32mfor\u001b[0m \u001b[0mi\u001b[0m \u001b[0;32min\u001b[0m \u001b[0ma\u001b[0m\u001b[0;34m(\u001b[0m\u001b[0mlen\u001b[0m\u001b[0;34m)\u001b[0m\u001b[0;34m:\u001b[0m\u001b[0;34m\u001b[0m\u001b[0;34m\u001b[0m\u001b[0m\n\u001b[0m\u001b[1;32m      3\u001b[0m     \u001b[0mb\u001b[0m\u001b[0;34m=\u001b[0m \u001b[0ma\u001b[0m\u001b[0;34m%\u001b[0m\u001b[0;36m10\u001b[0m\u001b[0;34m\u001b[0m\u001b[0;34m\u001b[0m\u001b[0m\n\u001b[1;32m      4\u001b[0m     \u001b[0mprint\u001b[0m\u001b[0;34m(\u001b[0m\u001b[0mb\u001b[0m\u001b[0;34m)\u001b[0m\u001b[0;34m\u001b[0m\u001b[0;34m\u001b[0m\u001b[0m\n\u001b[1;32m      5\u001b[0m \u001b[0mc\u001b[0m\u001b[0;34m=\u001b[0m \u001b[0ma\u001b[0m\u001b[0;34m//\u001b[0m\u001b[0;36m10\u001b[0m\u001b[0;34m\u001b[0m\u001b[0;34m\u001b[0m\u001b[0m\n",
            "\u001b[0;31mTypeError\u001b[0m: 'int' object is not callable"
          ]
        }
      ]
    },
    {
      "cell_type": "markdown",
      "source": [
        "Q8.Description write a program to calculate the sum of the digits of a given number"
      ],
      "metadata": {
        "id": "dbkFRwM48EyL"
      }
    },
    {
      "cell_type": "code",
      "source": [
        "n=int(input(\"Enter a number:\"))\n",
        "sum=0\n",
        "while(n>0):\n",
        "    remainder=n%10\n",
        "    sum=sum+remainder\n",
        "    n=n//10\n",
        "print(\"The total sum of digits is:\",sum)\n"
      ],
      "metadata": {
        "colab": {
          "base_uri": "https://localhost:8080/"
        },
        "id": "zkpzRL_f7yld",
        "outputId": "e09c898a-505b-419f-d8cd-e5156bcab197"
      },
      "execution_count": 18,
      "outputs": [
        {
          "output_type": "stream",
          "name": "stdout",
          "text": [
            "Enter a number:1\n",
            "The total sum of digits is: 1\n"
          ]
        }
      ]
    },
    {
      "cell_type": "code",
      "source": [
        ""
      ],
      "metadata": {
        "id": "UoT4arjb8ZuT"
      },
      "execution_count": null,
      "outputs": []
    }
  ]
}